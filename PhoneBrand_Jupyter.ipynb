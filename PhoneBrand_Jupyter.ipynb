{
 "cells": [
  {
   "cell_type": "code",
   "execution_count": 121,
   "metadata": {},
   "outputs": [],
   "source": [
    "from bs4 import BeautifulSoup\n",
    "import pandas as pd\n",
    "import re\n",
    "import time\n",
    "import numpy\n",
    "import requests\n",
    "\n",
    "cat = [\"Technology\",\"Announced\", \"Status\", \"Price\"]\n",
    "\n",
    "def loadContents(url):\n",
    "    time.sleep(100)\n",
    "    response = requests.get(url)\n",
    "    content = response.content\n",
    "    return BeautifulSoup(content, 'html.parser')\n",
    "\n",
    "def brands():\n",
    "    url = \"https://www.gsmarena.com/makers.php3\"\n",
    "    contents = loadContents(url)\n",
    "    return [link.get('href') for link in contents.table.find_all('a')]\n",
    "\n",
    "def phonesEachBrand(brand_url):\n",
    "    contents = loadContents(brand_url)\n",
    "    return [link.get('href') for link in contents.find('div',id='review-body').find_all('a')]\n",
    "\n",
    "def phoneContents(phone_url):\n",
    "    contents = loadContents(phone_url)\n",
    "    tables = contents.find_all('table')\n",
    "    network = tables[0].get_text().splitlines()\n",
    "    launch = tables[1].get_text().splitlines()\n",
    "    price = tables[len(tables)-2].get_text().splitlines()\n",
    "    result = {\"Link\":phone_url,\n",
    "              \"Network\":parsePhoneContents(network,cat[0]),\n",
    "              \"Announced\": parsePhoneContents(launch,cat[1]),\n",
    "              \"Status\":parsePhoneContents(launch,cat[2]),\n",
    "              \"Price\":parsePhoneContents(price,cat[3])\n",
    "             }\n",
    "    return result\n",
    "        \n",
    "def parsePhoneContents(arr_string,c):\n",
    "    index=arr_string.index(c)\n",
    "    return arr_string[index+1]\n",
    "    "
   ]
  },
  {
   "cell_type": "code",
   "execution_count": 124,
   "metadata": {},
   "outputs": [],
   "source": [
    "phoneContents('https://www.gsmarena.com/google_pixel_3a-9408.php')"
   ]
  },
  {
   "cell_type": "code",
   "execution_count": null,
   "metadata": {},
   "outputs": [],
   "source": [
    "home_link = \"https://www.gsmarena.com/\"\n",
    "result = []\n",
    "for brand_link in brands():\n",
    "    for phone_link in phonesEachBrand(home_link+brand_link):\n",
    "        result.append(phoneContents(home_link+phone_link))\n",
    "\n",
    "df = pd.DataFrame(result)\n",
    "df"
   ]
  }
 ],
 "metadata": {
  "kernelspec": {
   "display_name": "Python 3",
   "language": "python",
   "name": "python3"
  },
  "language_info": {
   "codemirror_mode": {
    "name": "ipython",
    "version": 3
   },
   "file_extension": ".py",
   "mimetype": "text/x-python",
   "name": "python",
   "nbconvert_exporter": "python",
   "pygments_lexer": "ipython3",
   "version": "3.8.4rc1"
  }
 },
 "nbformat": 4,
 "nbformat_minor": 4
}
